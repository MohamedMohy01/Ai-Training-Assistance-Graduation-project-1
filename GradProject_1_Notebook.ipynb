{
  "nbformat": 4,
  "nbformat_minor": 0,
  "metadata": {
    "colab": {
      "provenance": []
    },
    "kernelspec": {
      "name": "python3",
      "display_name": "Python 3"
    },
    "language_info": {
      "name": "python"
    }
  },
  "cells": [
    {
      "cell_type": "code",
      "execution_count": 5,
      "metadata": {
        "colab": {
          "base_uri": "https://localhost:8080/"
        },
        "id": "Xj5s0E6m9msW",
        "outputId": "f4f91aef-e00f-41fb-d1bd-f35ec0e9efc2"
      },
      "outputs": [
        {
          "output_type": "stream",
          "name": "stdout",
          "text": [
            "Drive already mounted at /content/drive; to attempt to forcibly remount, call drive.mount(\"/content/drive\", force_remount=True).\n"
          ]
        }
      ],
      "source": [
        "import os\n",
        "import numpy as np\n",
        "import pandas as pd\n",
        "import matplotlib.pyplot as plt\n",
        "import seaborn as sns\n",
        "from sklearn.model_selection import train_test_split\n",
        "from sklearn.preprocessing import LabelEncoder\n",
        "from sklearn.metrics import classification_report, confusion_matrix, accuracy_score\n",
        "import tensorflow as tf\n",
        "from tensorflow import keras\n",
        "from tensorflow.keras import layers\n",
        "from tensorflow.keras.callbacks import EarlyStopping, ReduceLROnPlateau, ModelCheckpoint\n",
        "import warnings\n",
        "warnings.filterwarnings('ignore')\n",
        "\n",
        "# Mount Google Drive\n",
        "from google.colab import drive\n",
        "drive.mount('/content/drive')\n",
        "\n",
        "# Set dataset path\n",
        "BASE_PATH = \"/content/drive/MyDrive/EJUST-GYM-3/processed/\"\n",
        "MODEL_SAVE_PATH = '/content/drive/MyDrive/new_models'\n",
        "os.makedirs(MODEL_SAVE_PATH, exist_ok=True)"
      ]
    },
    {
      "cell_type": "code",
      "source": [
        "import numpy as np\n",
        "\n",
        "EXERCISE_CLASSES = ['situps', 'jumping_jacks', 'high_knee', 'steam_engine']\n",
        "NUM_CLASSES = len(EXERCISE_CLASSES)\n",
        "LABEL_MAP = {exercise: idx for idx, exercise in enumerate(EXERCISE_CLASSES)}\n",
        "MAX_FRAMES = 30\n",
        "POSE_DIM = 99  # 33 landmarks * 3 coordinates\n",
        "NUM_LANDMARKS = 33\n",
        "NUM_COORDINATES = 3\n",
        "\n",
        "def get_label_index(exercise_name):\n",
        "    return LABEL_MAP.get(exercise_name, -1)\n",
        "\n",
        "def validate_pose_data(pose):\n",
        "    if pose.shape != (MAX_FRAMES, POSE_DIM) or np.any(np.isnan(pose)) or np.all(pose == 0):\n",
        "        return False\n",
        "    return True\n",
        "\n",
        "def normalize_pose(pose):\n",
        "    # Reshape pose to (30, 33, 3) for 30 frames, 33 landmarks, 3 coordinates\n",
        "    pose_reshaped = pose.reshape(MAX_FRAMES, NUM_LANDMARKS, NUM_COORDINATES)\n",
        "\n",
        "    # Extract hip landmarks (indices 23 and 24)\n",
        "    hip_left = pose_reshaped[:, 23, :]\n",
        "    hip_right = pose_reshaped[:, 24, :]\n",
        "    hip_center = (hip_left + hip_right) / 2  # Shape: (30, 3)\n",
        "\n",
        "    # Center the pose by subtracting hip_center, broadcasting (30, 3) to (30, 33, 3)\n",
        "    pose_centered = pose_reshaped - hip_center[:, np.newaxis, :]\n",
        "\n",
        "    # Extract shoulder landmarks (indices 11 and 12)\n",
        "    shoulder_left = pose_reshaped[:, 11, :]\n",
        "    shoulder_right = pose_reshaped[:, 12, :]\n",
        "    shoulder_center = (shoulder_left + shoulder_right) / 2  # Shape: (30, 3)\n",
        "\n",
        "    # Compute torso length as the norm between shoulder_center and hip_center\n",
        "    torso_length = np.linalg.norm(shoulder_center - hip_center, axis=1)  # Shape: (30,)\n",
        "    torso_length = np.maximum(torso_length, 1e-5)  # Avoid division by zero\n",
        "\n",
        "    # Normalize by scaling with torso length, broadcasting (30, 1, 1) to (30, 33, 3)\n",
        "    pose_normalized = pose_centered / torso_length[:, np.newaxis, np.newaxis]\n",
        "\n",
        "    # Reshape back to (30, 99)\n",
        "    return pose_normalized.reshape(MAX_FRAMES, POSE_DIM)\n",
        "\n",
        "def augment_pose(pose):\n",
        "    noise = np.random.normal(0, 0.01, pose.shape)\n",
        "    return pose + noise"
      ],
      "metadata": {
        "id": "c08Ua-RR_apd"
      },
      "execution_count": 6,
      "outputs": []
    },
    {
      "cell_type": "code",
      "source": [
        "import pandas as pd\n",
        "import os\n",
        "\n",
        "def load_all_pose_data(base_path, exercises, max_frames=MAX_FRAMES):\n",
        "    data = []\n",
        "    labels = []\n",
        "    for person in sorted(os.listdir(base_path)):\n",
        "        person_path = os.path.join(base_path, person)\n",
        "        if not os.path.isdir(person_path):\n",
        "            continue\n",
        "        for exercise in exercises:\n",
        "            pose_folder = os.path.join(person_path, exercise, \"poses\", \"csv\")\n",
        "            if not os.path.exists(pose_folder):\n",
        "                continue\n",
        "            csv_files = [f for f in os.listdir(pose_folder) if f.endswith(\".csv\")]\n",
        "            for fname in sorted(csv_files):\n",
        "                csv_path = os.path.join(pose_folder, fname)\n",
        "                try:\n",
        "                    df = pd.read_csv(csv_path)\n",
        "                    # Check if the CSV has exactly 99 columns\n",
        "                    if df.shape[1] != POSE_DIM:\n",
        "                        print(f\"Skipping {csv_path}: expected {POSE_DIM} columns, got {df.shape[1]}\")\n",
        "                        continue\n",
        "                    pose = df.values.astype(np.float32)\n",
        "                    # Pad or truncate to MAX_FRAMES\n",
        "                    if pose.shape[0] < max_frames:\n",
        "                        pad = np.zeros((max_frames - pose.shape[0], POSE_DIM), dtype=np.float32)\n",
        "                        pose = np.vstack((pose, pad))\n",
        "                    else:\n",
        "                        pose = pose[:max_frames]\n",
        "                    # Validate the pose data\n",
        "                    if validate_pose_data(pose):\n",
        "                        pose_normalized = normalize_pose(pose)\n",
        "                        data.append(pose_normalized)\n",
        "                        labels.append(get_label_index(exercise))\n",
        "                    else:\n",
        "                        print(f\"Skipping {csv_path}: invalid pose data\")\n",
        "                except Exception as e:\n",
        "                    print(f\"Failed to load {csv_path}: {e}\")\n",
        "    return np.array(data), np.array(labels)\n",
        "\n",
        "# Assuming BASE_PATH is defined, e.g., BASE_PATH = \"/content/drive/MyDrive/EJUST-GYM-3/processed\"\n",
        "X, y = load_all_pose_data(BASE_PATH, EXERCISE_CLASSES)\n",
        "print(f\"Loaded {len(X)} sequences\")\n",
        "\n",
        "# Apply data augmentation\n",
        "X_augmented = np.array([augment_pose(x) for x in X])\n",
        "\n",
        "# Reshape X for the model\n",
        "X_augmented = X_augmented.reshape(-1, MAX_FRAMES, POSE_DIM)\n",
        "print(f\"Data shape: {X_augmented.shape}, Labels shape: {y.shape}\")"
      ],
      "metadata": {
        "colab": {
          "base_uri": "https://localhost:8080/"
        },
        "id": "FNPKlEKB_igt",
        "outputId": "fde37cc5-5509-436f-9a41-321f9d6a0cf3"
      },
      "execution_count": 7,
      "outputs": [
        {
          "output_type": "stream",
          "name": "stdout",
          "text": [
            "Failed to load /content/drive/MyDrive/EJUST-GYM-3/processed/12-Youssef Elamir Nabil/steam_engine/poses/csv/c_9.csv: No columns to parse from file\n",
            "Failed to load /content/drive/MyDrive/EJUST-GYM-3/processed/121-Mohamed Hussien Kamal/high_knee/poses/csv/c_9.csv: No columns to parse from file\n",
            "Skipping /content/drive/MyDrive/EJUST-GYM-3/processed/78-Omar Said Fares/jumping_jacks/poses/csv/c_1.csv: invalid pose data\n",
            "Loaded 5545 sequences\n",
            "Data shape: (5545, 30, 99), Labels shape: (5545,)\n"
          ]
        }
      ]
    },
    {
      "cell_type": "code",
      "source": [
        "X_train, X_temp, y_train, y_temp = train_test_split(X_augmented, y, test_size=0.3, random_state=42, stratify=y)\n",
        "X_val, X_test, y_val, y_test = train_test_split(X_temp, y_temp, test_size=0.5, random_state=42, stratify=y_temp)\n",
        "print(f\"Train: {X_train.shape}, Val: {X_val.shape}, Test: {X_test.shape}\")"
      ],
      "metadata": {
        "colab": {
          "base_uri": "https://localhost:8080/"
        },
        "id": "uM9zATR-_qf5",
        "outputId": "29ed3f8c-d501-4ef3-bdeb-313fe9458aec"
      },
      "execution_count": 8,
      "outputs": [
        {
          "output_type": "stream",
          "name": "stdout",
          "text": [
            "Train: (3881, 30, 99), Val: (832, 30, 99), Test: (832, 30, 99)\n"
          ]
        }
      ]
    },
    {
      "cell_type": "code",
      "source": [
        "model = keras.Sequential([\n",
        "    layers.LSTM(256, input_shape=(MAX_FRAMES, POSE_DIM), return_sequences=False),\n",
        "    layers.Dropout(0.4),\n",
        "    layers.Dense(128, activation='relu'),\n",
        "    layers.Dropout(0.4),\n",
        "    layers.Dense(64, activation='relu'),\n",
        "    layers.Dense(NUM_CLASSES, activation='softmax')\n",
        "])\n",
        "\n",
        "model.compile(optimizer='adam', loss='sparse_categorical_crossentropy', metrics=['accuracy'])\n",
        "model.summary()"
      ],
      "metadata": {
        "colab": {
          "base_uri": "https://localhost:8080/",
          "height": 321
        },
        "id": "4NdX0UVsC7eu",
        "outputId": "81915b4c-54af-4805-9a5b-c69cee2bf3ff"
      },
      "execution_count": 9,
      "outputs": [
        {
          "output_type": "display_data",
          "data": {
            "text/plain": [
              "\u001b[1mModel: \"sequential\"\u001b[0m\n"
            ],
            "text/html": [
              "<pre style=\"white-space:pre;overflow-x:auto;line-height:normal;font-family:Menlo,'DejaVu Sans Mono',consolas,'Courier New',monospace\"><span style=\"font-weight: bold\">Model: \"sequential\"</span>\n",
              "</pre>\n"
            ]
          },
          "metadata": {}
        },
        {
          "output_type": "display_data",
          "data": {
            "text/plain": [
              "┏━━━━━━━━━━━━━━━━━━━━━━━━━━━━━━━━━┳━━━━━━━━━━━━━━━━━━━━━━━━┳━━━━━━━━━━━━━━━┓\n",
              "┃\u001b[1m \u001b[0m\u001b[1mLayer (type)                   \u001b[0m\u001b[1m \u001b[0m┃\u001b[1m \u001b[0m\u001b[1mOutput Shape          \u001b[0m\u001b[1m \u001b[0m┃\u001b[1m \u001b[0m\u001b[1m      Param #\u001b[0m\u001b[1m \u001b[0m┃\n",
              "┡━━━━━━━━━━━━━━━━━━━━━━━━━━━━━━━━━╇━━━━━━━━━━━━━━━━━━━━━━━━╇━━━━━━━━━━━━━━━┩\n",
              "│ lstm (\u001b[38;5;33mLSTM\u001b[0m)                     │ (\u001b[38;5;45mNone\u001b[0m, \u001b[38;5;34m256\u001b[0m)            │       \u001b[38;5;34m364,544\u001b[0m │\n",
              "├─────────────────────────────────┼────────────────────────┼───────────────┤\n",
              "│ dropout (\u001b[38;5;33mDropout\u001b[0m)               │ (\u001b[38;5;45mNone\u001b[0m, \u001b[38;5;34m256\u001b[0m)            │             \u001b[38;5;34m0\u001b[0m │\n",
              "├─────────────────────────────────┼────────────────────────┼───────────────┤\n",
              "│ dense (\u001b[38;5;33mDense\u001b[0m)                   │ (\u001b[38;5;45mNone\u001b[0m, \u001b[38;5;34m128\u001b[0m)            │        \u001b[38;5;34m32,896\u001b[0m │\n",
              "├─────────────────────────────────┼────────────────────────┼───────────────┤\n",
              "│ dropout_1 (\u001b[38;5;33mDropout\u001b[0m)             │ (\u001b[38;5;45mNone\u001b[0m, \u001b[38;5;34m128\u001b[0m)            │             \u001b[38;5;34m0\u001b[0m │\n",
              "├─────────────────────────────────┼────────────────────────┼───────────────┤\n",
              "│ dense_1 (\u001b[38;5;33mDense\u001b[0m)                 │ (\u001b[38;5;45mNone\u001b[0m, \u001b[38;5;34m64\u001b[0m)             │         \u001b[38;5;34m8,256\u001b[0m │\n",
              "├─────────────────────────────────┼────────────────────────┼───────────────┤\n",
              "│ dense_2 (\u001b[38;5;33mDense\u001b[0m)                 │ (\u001b[38;5;45mNone\u001b[0m, \u001b[38;5;34m4\u001b[0m)              │           \u001b[38;5;34m260\u001b[0m │\n",
              "└─────────────────────────────────┴────────────────────────┴───────────────┘\n"
            ],
            "text/html": [
              "<pre style=\"white-space:pre;overflow-x:auto;line-height:normal;font-family:Menlo,'DejaVu Sans Mono',consolas,'Courier New',monospace\">┏━━━━━━━━━━━━━━━━━━━━━━━━━━━━━━━━━┳━━━━━━━━━━━━━━━━━━━━━━━━┳━━━━━━━━━━━━━━━┓\n",
              "┃<span style=\"font-weight: bold\"> Layer (type)                    </span>┃<span style=\"font-weight: bold\"> Output Shape           </span>┃<span style=\"font-weight: bold\">       Param # </span>┃\n",
              "┡━━━━━━━━━━━━━━━━━━━━━━━━━━━━━━━━━╇━━━━━━━━━━━━━━━━━━━━━━━━╇━━━━━━━━━━━━━━━┩\n",
              "│ lstm (<span style=\"color: #0087ff; text-decoration-color: #0087ff\">LSTM</span>)                     │ (<span style=\"color: #00d7ff; text-decoration-color: #00d7ff\">None</span>, <span style=\"color: #00af00; text-decoration-color: #00af00\">256</span>)            │       <span style=\"color: #00af00; text-decoration-color: #00af00\">364,544</span> │\n",
              "├─────────────────────────────────┼────────────────────────┼───────────────┤\n",
              "│ dropout (<span style=\"color: #0087ff; text-decoration-color: #0087ff\">Dropout</span>)               │ (<span style=\"color: #00d7ff; text-decoration-color: #00d7ff\">None</span>, <span style=\"color: #00af00; text-decoration-color: #00af00\">256</span>)            │             <span style=\"color: #00af00; text-decoration-color: #00af00\">0</span> │\n",
              "├─────────────────────────────────┼────────────────────────┼───────────────┤\n",
              "│ dense (<span style=\"color: #0087ff; text-decoration-color: #0087ff\">Dense</span>)                   │ (<span style=\"color: #00d7ff; text-decoration-color: #00d7ff\">None</span>, <span style=\"color: #00af00; text-decoration-color: #00af00\">128</span>)            │        <span style=\"color: #00af00; text-decoration-color: #00af00\">32,896</span> │\n",
              "├─────────────────────────────────┼────────────────────────┼───────────────┤\n",
              "│ dropout_1 (<span style=\"color: #0087ff; text-decoration-color: #0087ff\">Dropout</span>)             │ (<span style=\"color: #00d7ff; text-decoration-color: #00d7ff\">None</span>, <span style=\"color: #00af00; text-decoration-color: #00af00\">128</span>)            │             <span style=\"color: #00af00; text-decoration-color: #00af00\">0</span> │\n",
              "├─────────────────────────────────┼────────────────────────┼───────────────┤\n",
              "│ dense_1 (<span style=\"color: #0087ff; text-decoration-color: #0087ff\">Dense</span>)                 │ (<span style=\"color: #00d7ff; text-decoration-color: #00d7ff\">None</span>, <span style=\"color: #00af00; text-decoration-color: #00af00\">64</span>)             │         <span style=\"color: #00af00; text-decoration-color: #00af00\">8,256</span> │\n",
              "├─────────────────────────────────┼────────────────────────┼───────────────┤\n",
              "│ dense_2 (<span style=\"color: #0087ff; text-decoration-color: #0087ff\">Dense</span>)                 │ (<span style=\"color: #00d7ff; text-decoration-color: #00d7ff\">None</span>, <span style=\"color: #00af00; text-decoration-color: #00af00\">4</span>)              │           <span style=\"color: #00af00; text-decoration-color: #00af00\">260</span> │\n",
              "└─────────────────────────────────┴────────────────────────┴───────────────┘\n",
              "</pre>\n"
            ]
          },
          "metadata": {}
        },
        {
          "output_type": "display_data",
          "data": {
            "text/plain": [
              "\u001b[1m Total params: \u001b[0m\u001b[38;5;34m405,956\u001b[0m (1.55 MB)\n"
            ],
            "text/html": [
              "<pre style=\"white-space:pre;overflow-x:auto;line-height:normal;font-family:Menlo,'DejaVu Sans Mono',consolas,'Courier New',monospace\"><span style=\"font-weight: bold\"> Total params: </span><span style=\"color: #00af00; text-decoration-color: #00af00\">405,956</span> (1.55 MB)\n",
              "</pre>\n"
            ]
          },
          "metadata": {}
        },
        {
          "output_type": "display_data",
          "data": {
            "text/plain": [
              "\u001b[1m Trainable params: \u001b[0m\u001b[38;5;34m405,956\u001b[0m (1.55 MB)\n"
            ],
            "text/html": [
              "<pre style=\"white-space:pre;overflow-x:auto;line-height:normal;font-family:Menlo,'DejaVu Sans Mono',consolas,'Courier New',monospace\"><span style=\"font-weight: bold\"> Trainable params: </span><span style=\"color: #00af00; text-decoration-color: #00af00\">405,956</span> (1.55 MB)\n",
              "</pre>\n"
            ]
          },
          "metadata": {}
        },
        {
          "output_type": "display_data",
          "data": {
            "text/plain": [
              "\u001b[1m Non-trainable params: \u001b[0m\u001b[38;5;34m0\u001b[0m (0.00 B)\n"
            ],
            "text/html": [
              "<pre style=\"white-space:pre;overflow-x:auto;line-height:normal;font-family:Menlo,'DejaVu Sans Mono',consolas,'Courier New',monospace\"><span style=\"font-weight: bold\"> Non-trainable params: </span><span style=\"color: #00af00; text-decoration-color: #00af00\">0</span> (0.00 B)\n",
              "</pre>\n"
            ]
          },
          "metadata": {}
        }
      ]
    },
    {
      "cell_type": "code",
      "source": [
        "callbacks = [\n",
        "    EarlyStopping(patience=15, restore_best_weights=True),\n",
        "    ReduceLROnPlateau(factor=0.5, patience=5),\n",
        "    ModelCheckpoint(os.path.join(MODEL_SAVE_PATH, 'best_model.keras'), save_best_only=True)\n",
        "]\n",
        "\n",
        "history = model.fit(X_train, y_train, validation_data=(X_val, y_val),\n",
        "                    epochs=100, batch_size=32, callbacks=callbacks)\n",
        "\n",
        "# Plot training history\n",
        "plt.plot(history.history['loss'], label='Training Loss')\n",
        "plt.plot(history.history['val_loss'], label='Validation Loss')\n",
        "plt.legend()\n",
        "plt.show()"
      ],
      "metadata": {
        "colab": {
          "base_uri": "https://localhost:8080/",
          "height": 1000
        },
        "id": "seqzg9kEDEuc",
        "outputId": "b78146cd-ee13-45c4-ba84-d469a43793d9"
      },
      "execution_count": 10,
      "outputs": [
        {
          "output_type": "stream",
          "name": "stdout",
          "text": [
            "Epoch 1/100\n",
            "\u001b[1m122/122\u001b[0m \u001b[32m━━━━━━━━━━━━━━━━━━━━\u001b[0m\u001b[37m\u001b[0m \u001b[1m25s\u001b[0m 175ms/step - accuracy: 0.8299 - loss: 0.4329 - val_accuracy: 0.9820 - val_loss: 0.1040 - learning_rate: 0.0010\n",
            "Epoch 2/100\n",
            "\u001b[1m122/122\u001b[0m \u001b[32m━━━━━━━━━━━━━━━━━━━━\u001b[0m\u001b[37m\u001b[0m \u001b[1m34s\u001b[0m 122ms/step - accuracy: 0.9941 - loss: 0.0219 - val_accuracy: 0.9964 - val_loss: 0.0070 - learning_rate: 0.0010\n",
            "Epoch 3/100\n",
            "\u001b[1m122/122\u001b[0m \u001b[32m━━━━━━━━━━━━━━━━━━━━\u001b[0m\u001b[37m\u001b[0m \u001b[1m16s\u001b[0m 128ms/step - accuracy: 0.9919 - loss: 0.0329 - val_accuracy: 0.9988 - val_loss: 0.0045 - learning_rate: 0.0010\n",
            "Epoch 4/100\n",
            "\u001b[1m122/122\u001b[0m \u001b[32m━━━━━━━━━━━━━━━━━━━━\u001b[0m\u001b[37m\u001b[0m \u001b[1m19s\u001b[0m 160ms/step - accuracy: 0.9839 - loss: 0.0440 - val_accuracy: 0.9988 - val_loss: 0.0057 - learning_rate: 0.0010\n",
            "Epoch 5/100\n",
            "\u001b[1m122/122\u001b[0m \u001b[32m━━━━━━━━━━━━━━━━━━━━\u001b[0m\u001b[37m\u001b[0m \u001b[1m17s\u001b[0m 127ms/step - accuracy: 0.9996 - loss: 0.0025 - val_accuracy: 0.9988 - val_loss: 0.0015 - learning_rate: 0.0010\n",
            "Epoch 6/100\n",
            "\u001b[1m122/122\u001b[0m \u001b[32m━━━━━━━━━━━━━━━━━━━━\u001b[0m\u001b[37m\u001b[0m \u001b[1m20s\u001b[0m 121ms/step - accuracy: 1.0000 - loss: 7.0279e-04 - val_accuracy: 1.0000 - val_loss: 5.6796e-04 - learning_rate: 0.0010\n",
            "Epoch 7/100\n",
            "\u001b[1m122/122\u001b[0m \u001b[32m━━━━━━━━━━━━━━━━━━━━\u001b[0m\u001b[37m\u001b[0m \u001b[1m21s\u001b[0m 121ms/step - accuracy: 1.0000 - loss: 3.3316e-04 - val_accuracy: 1.0000 - val_loss: 2.7334e-05 - learning_rate: 0.0010\n",
            "Epoch 8/100\n",
            "\u001b[1m122/122\u001b[0m \u001b[32m━━━━━━━━━━━━━━━━━━━━\u001b[0m\u001b[37m\u001b[0m \u001b[1m21s\u001b[0m 122ms/step - accuracy: 1.0000 - loss: 1.2496e-04 - val_accuracy: 1.0000 - val_loss: 3.0873e-05 - learning_rate: 0.0010\n",
            "Epoch 9/100\n",
            "\u001b[1m122/122\u001b[0m \u001b[32m━━━━━━━━━━━━━━━━━━━━\u001b[0m\u001b[37m\u001b[0m \u001b[1m15s\u001b[0m 122ms/step - accuracy: 0.9995 - loss: 0.0011 - val_accuracy: 1.0000 - val_loss: 1.4801e-05 - learning_rate: 0.0010\n",
            "Epoch 10/100\n",
            "\u001b[1m122/122\u001b[0m \u001b[32m━━━━━━━━━━━━━━━━━━━━\u001b[0m\u001b[37m\u001b[0m \u001b[1m24s\u001b[0m 149ms/step - accuracy: 1.0000 - loss: 1.2006e-04 - val_accuracy: 1.0000 - val_loss: 1.0217e-05 - learning_rate: 0.0010\n",
            "Epoch 11/100\n",
            "\u001b[1m122/122\u001b[0m \u001b[32m━━━━━━━━━━━━━━━━━━━━\u001b[0m\u001b[37m\u001b[0m \u001b[1m17s\u001b[0m 124ms/step - accuracy: 1.0000 - loss: 5.3183e-05 - val_accuracy: 1.0000 - val_loss: 8.2767e-06 - learning_rate: 0.0010\n",
            "Epoch 12/100\n",
            "\u001b[1m122/122\u001b[0m \u001b[32m━━━━━━━━━━━━━━━━━━━━\u001b[0m\u001b[37m\u001b[0m \u001b[1m20s\u001b[0m 120ms/step - accuracy: 1.0000 - loss: 4.6830e-05 - val_accuracy: 1.0000 - val_loss: 6.5607e-06 - learning_rate: 0.0010\n",
            "Epoch 13/100\n",
            "\u001b[1m122/122\u001b[0m \u001b[32m━━━━━━━━━━━━━━━━━━━━\u001b[0m\u001b[37m\u001b[0m \u001b[1m15s\u001b[0m 125ms/step - accuracy: 1.0000 - loss: 5.5387e-05 - val_accuracy: 1.0000 - val_loss: 5.8001e-06 - learning_rate: 5.0000e-04\n",
            "Epoch 14/100\n",
            "\u001b[1m122/122\u001b[0m \u001b[32m━━━━━━━━━━━━━━━━━━━━\u001b[0m\u001b[37m\u001b[0m \u001b[1m15s\u001b[0m 124ms/step - accuracy: 1.0000 - loss: 3.3459e-05 - val_accuracy: 1.0000 - val_loss: 5.3491e-06 - learning_rate: 5.0000e-04\n",
            "Epoch 15/100\n",
            "\u001b[1m122/122\u001b[0m \u001b[32m━━━━━━━━━━━━━━━━━━━━\u001b[0m\u001b[37m\u001b[0m \u001b[1m20s\u001b[0m 123ms/step - accuracy: 1.0000 - loss: 3.7167e-05 - val_accuracy: 1.0000 - val_loss: 4.8564e-06 - learning_rate: 5.0000e-04\n",
            "Epoch 16/100\n",
            "\u001b[1m122/122\u001b[0m \u001b[32m━━━━━━━━━━━━━━━━━━━━\u001b[0m\u001b[37m\u001b[0m \u001b[1m15s\u001b[0m 127ms/step - accuracy: 1.0000 - loss: 2.1185e-05 - val_accuracy: 1.0000 - val_loss: 4.1102e-06 - learning_rate: 5.0000e-04\n",
            "Epoch 17/100\n",
            "\u001b[1m122/122\u001b[0m \u001b[32m━━━━━━━━━━━━━━━━━━━━\u001b[0m\u001b[37m\u001b[0m \u001b[1m20s\u001b[0m 122ms/step - accuracy: 1.0000 - loss: 2.5456e-05 - val_accuracy: 1.0000 - val_loss: 3.2152e-06 - learning_rate: 5.0000e-04\n",
            "Epoch 18/100\n",
            "\u001b[1m122/122\u001b[0m \u001b[32m━━━━━━━━━━━━━━━━━━━━\u001b[0m\u001b[37m\u001b[0m \u001b[1m20s\u001b[0m 121ms/step - accuracy: 1.0000 - loss: 3.1034e-05 - val_accuracy: 1.0000 - val_loss: 3.0839e-06 - learning_rate: 2.5000e-04\n",
            "Epoch 19/100\n",
            "\u001b[1m122/122\u001b[0m \u001b[32m━━━━━━━━━━━━━━━━━━━━\u001b[0m\u001b[37m\u001b[0m \u001b[1m15s\u001b[0m 124ms/step - accuracy: 1.0000 - loss: 3.1206e-05 - val_accuracy: 1.0000 - val_loss: 2.8488e-06 - learning_rate: 2.5000e-04\n",
            "Epoch 20/100\n",
            "\u001b[1m122/122\u001b[0m \u001b[32m━━━━━━━━━━━━━━━━━━━━\u001b[0m\u001b[37m\u001b[0m \u001b[1m20s\u001b[0m 123ms/step - accuracy: 1.0000 - loss: 1.5622e-05 - val_accuracy: 1.0000 - val_loss: 2.6206e-06 - learning_rate: 2.5000e-04\n",
            "Epoch 21/100\n",
            "\u001b[1m122/122\u001b[0m \u001b[32m━━━━━━━━━━━━━━━━━━━━\u001b[0m\u001b[37m\u001b[0m \u001b[1m15s\u001b[0m 126ms/step - accuracy: 1.0000 - loss: 1.6856e-05 - val_accuracy: 1.0000 - val_loss: 2.5664e-06 - learning_rate: 2.5000e-04\n",
            "Epoch 22/100\n",
            "\u001b[1m122/122\u001b[0m \u001b[32m━━━━━━━━━━━━━━━━━━━━\u001b[0m\u001b[37m\u001b[0m \u001b[1m20s\u001b[0m 121ms/step - accuracy: 1.0000 - loss: 1.6959e-05 - val_accuracy: 1.0000 - val_loss: 2.4898e-06 - learning_rate: 2.5000e-04\n",
            "Epoch 23/100\n",
            "\u001b[1m122/122\u001b[0m \u001b[32m━━━━━━━━━━━━━━━━━━━━\u001b[0m\u001b[37m\u001b[0m \u001b[1m21s\u001b[0m 124ms/step - accuracy: 1.0000 - loss: 3.9776e-05 - val_accuracy: 1.0000 - val_loss: 2.3099e-06 - learning_rate: 1.2500e-04\n",
            "Epoch 24/100\n",
            "\u001b[1m122/122\u001b[0m \u001b[32m━━━━━━━━━━━━━━━━━━━━\u001b[0m\u001b[37m\u001b[0m \u001b[1m16s\u001b[0m 129ms/step - accuracy: 1.0000 - loss: 2.4136e-05 - val_accuracy: 1.0000 - val_loss: 1.7496e-06 - learning_rate: 1.2500e-04\n",
            "Epoch 25/100\n",
            "\u001b[1m122/122\u001b[0m \u001b[32m━━━━━━━━━━━━━━━━━━━━\u001b[0m\u001b[37m\u001b[0m \u001b[1m15s\u001b[0m 125ms/step - accuracy: 1.0000 - loss: 1.7214e-05 - val_accuracy: 1.0000 - val_loss: 1.6678e-06 - learning_rate: 1.2500e-04\n",
            "Epoch 26/100\n",
            "\u001b[1m122/122\u001b[0m \u001b[32m━━━━━━━━━━━━━━━━━━━━\u001b[0m\u001b[37m\u001b[0m \u001b[1m22s\u001b[0m 138ms/step - accuracy: 1.0000 - loss: 2.1321e-05 - val_accuracy: 1.0000 - val_loss: 1.6224e-06 - learning_rate: 1.2500e-04\n",
            "Epoch 27/100\n",
            "\u001b[1m122/122\u001b[0m \u001b[32m━━━━━━━━━━━━━━━━━━━━\u001b[0m\u001b[37m\u001b[0m \u001b[1m19s\u001b[0m 123ms/step - accuracy: 1.0000 - loss: 1.9755e-05 - val_accuracy: 1.0000 - val_loss: 1.5011e-06 - learning_rate: 1.2500e-04\n",
            "Epoch 28/100\n",
            "\u001b[1m122/122\u001b[0m \u001b[32m━━━━━━━━━━━━━━━━━━━━\u001b[0m\u001b[37m\u001b[0m \u001b[1m15s\u001b[0m 124ms/step - accuracy: 1.0000 - loss: 9.6135e-06 - val_accuracy: 1.0000 - val_loss: 1.4792e-06 - learning_rate: 6.2500e-05\n",
            "Epoch 29/100\n",
            "\u001b[1m122/122\u001b[0m \u001b[32m━━━━━━━━━━━━━━━━━━━━\u001b[0m\u001b[37m\u001b[0m \u001b[1m24s\u001b[0m 156ms/step - accuracy: 1.0000 - loss: 1.3969e-05 - val_accuracy: 1.0000 - val_loss: 1.4458e-06 - learning_rate: 6.2500e-05\n",
            "Epoch 30/100\n",
            "\u001b[1m122/122\u001b[0m \u001b[32m━━━━━━━━━━━━━━━━━━━━\u001b[0m\u001b[37m\u001b[0m \u001b[1m17s\u001b[0m 125ms/step - accuracy: 1.0000 - loss: 1.6661e-05 - val_accuracy: 1.0000 - val_loss: 1.4254e-06 - learning_rate: 6.2500e-05\n",
            "Epoch 31/100\n",
            "\u001b[1m122/122\u001b[0m \u001b[32m━━━━━━━━━━━━━━━━━━━━\u001b[0m\u001b[37m\u001b[0m \u001b[1m21s\u001b[0m 127ms/step - accuracy: 1.0000 - loss: 3.4942e-05 - val_accuracy: 1.0000 - val_loss: 1.3784e-06 - learning_rate: 6.2500e-05\n",
            "Epoch 32/100\n",
            "\u001b[1m122/122\u001b[0m \u001b[32m━━━━━━━━━━━━━━━━━━━━\u001b[0m\u001b[37m\u001b[0m \u001b[1m16s\u001b[0m 130ms/step - accuracy: 1.0000 - loss: 1.1338e-05 - val_accuracy: 1.0000 - val_loss: 1.3509e-06 - learning_rate: 6.2500e-05\n",
            "Epoch 33/100\n",
            "\u001b[1m122/122\u001b[0m \u001b[32m━━━━━━━━━━━━━━━━━━━━\u001b[0m\u001b[37m\u001b[0m \u001b[1m24s\u001b[0m 160ms/step - accuracy: 1.0000 - loss: 5.5255e-05 - val_accuracy: 1.0000 - val_loss: 1.3159e-06 - learning_rate: 3.1250e-05\n",
            "Epoch 34/100\n",
            "\u001b[1m122/122\u001b[0m \u001b[32m━━━━━━━━━━━━━━━━━━━━\u001b[0m\u001b[37m\u001b[0m \u001b[1m16s\u001b[0m 128ms/step - accuracy: 1.0000 - loss: 1.4571e-05 - val_accuracy: 1.0000 - val_loss: 1.2934e-06 - learning_rate: 3.1250e-05\n",
            "Epoch 35/100\n",
            "\u001b[1m122/122\u001b[0m \u001b[32m━━━━━━━━━━━━━━━━━━━━\u001b[0m\u001b[37m\u001b[0m \u001b[1m23s\u001b[0m 150ms/step - accuracy: 1.0000 - loss: 1.4042e-05 - val_accuracy: 1.0000 - val_loss: 1.2844e-06 - learning_rate: 3.1250e-05\n",
            "Epoch 36/100\n",
            "\u001b[1m122/122\u001b[0m \u001b[32m━━━━━━━━━━━━━━━━━━━━\u001b[0m\u001b[37m\u001b[0m \u001b[1m18s\u001b[0m 127ms/step - accuracy: 1.0000 - loss: 3.5648e-05 - val_accuracy: 1.0000 - val_loss: 1.2500e-06 - learning_rate: 3.1250e-05\n",
            "Epoch 37/100\n",
            "\u001b[1m122/122\u001b[0m \u001b[32m━━━━━━━━━━━━━━━━━━━━\u001b[0m\u001b[37m\u001b[0m \u001b[1m16s\u001b[0m 128ms/step - accuracy: 1.0000 - loss: 1.7726e-05 - val_accuracy: 1.0000 - val_loss: 1.2347e-06 - learning_rate: 3.1250e-05\n",
            "Epoch 38/100\n",
            "\u001b[1m122/122\u001b[0m \u001b[32m━━━━━━━━━━━━━━━━━━━━\u001b[0m\u001b[37m\u001b[0m \u001b[1m21s\u001b[0m 128ms/step - accuracy: 1.0000 - loss: 4.9249e-05 - val_accuracy: 1.0000 - val_loss: 1.1340e-06 - learning_rate: 1.5625e-05\n",
            "Epoch 39/100\n",
            "\u001b[1m122/122\u001b[0m \u001b[32m━━━━━━━━━━━━━━━━━━━━\u001b[0m\u001b[37m\u001b[0m \u001b[1m21s\u001b[0m 135ms/step - accuracy: 1.0000 - loss: 1.7713e-05 - val_accuracy: 1.0000 - val_loss: 1.1276e-06 - learning_rate: 1.5625e-05\n",
            "Epoch 40/100\n",
            "\u001b[1m122/122\u001b[0m \u001b[32m━━━━━━━━━━━━━━━━━━━━\u001b[0m\u001b[37m\u001b[0m \u001b[1m16s\u001b[0m 133ms/step - accuracy: 1.0000 - loss: 1.5260e-05 - val_accuracy: 1.0000 - val_loss: 1.1184e-06 - learning_rate: 1.5625e-05\n",
            "Epoch 41/100\n",
            "\u001b[1m122/122\u001b[0m \u001b[32m━━━━━━━━━━━━━━━━━━━━\u001b[0m\u001b[37m\u001b[0m \u001b[1m23s\u001b[0m 151ms/step - accuracy: 1.0000 - loss: 1.7038e-05 - val_accuracy: 1.0000 - val_loss: 1.1028e-06 - learning_rate: 1.5625e-05\n",
            "Epoch 42/100\n",
            "\u001b[1m122/122\u001b[0m \u001b[32m━━━━━━━━━━━━━━━━━━━━\u001b[0m\u001b[37m\u001b[0m \u001b[1m18s\u001b[0m 130ms/step - accuracy: 1.0000 - loss: 2.7961e-05 - val_accuracy: 1.0000 - val_loss: 1.0925e-06 - learning_rate: 1.5625e-05\n",
            "Epoch 43/100\n",
            "\u001b[1m122/122\u001b[0m \u001b[32m━━━━━━━━━━━━━━━━━━━━\u001b[0m\u001b[37m\u001b[0m \u001b[1m20s\u001b[0m 129ms/step - accuracy: 1.0000 - loss: 1.9229e-05 - val_accuracy: 1.0000 - val_loss: 1.0912e-06 - learning_rate: 7.8125e-06\n",
            "Epoch 44/100\n",
            "\u001b[1m122/122\u001b[0m \u001b[32m━━━━━━━━━━━━━━━━━━━━\u001b[0m\u001b[37m\u001b[0m \u001b[1m20s\u001b[0m 127ms/step - accuracy: 1.0000 - loss: 1.2326e-05 - val_accuracy: 1.0000 - val_loss: 1.0873e-06 - learning_rate: 7.8125e-06\n",
            "Epoch 45/100\n",
            "\u001b[1m122/122\u001b[0m \u001b[32m━━━━━━━━━━━━━━━━━━━━\u001b[0m\u001b[37m\u001b[0m \u001b[1m21s\u001b[0m 128ms/step - accuracy: 1.0000 - loss: 1.2576e-05 - val_accuracy: 1.0000 - val_loss: 1.0757e-06 - learning_rate: 7.8125e-06\n",
            "Epoch 46/100\n",
            "\u001b[1m122/122\u001b[0m \u001b[32m━━━━━━━━━━━━━━━━━━━━\u001b[0m\u001b[37m\u001b[0m \u001b[1m22s\u001b[0m 139ms/step - accuracy: 1.0000 - loss: 1.2594e-05 - val_accuracy: 1.0000 - val_loss: 1.0713e-06 - learning_rate: 7.8125e-06\n",
            "Epoch 47/100\n",
            "\u001b[1m122/122\u001b[0m \u001b[32m━━━━━━━━━━━━━━━━━━━━\u001b[0m\u001b[37m\u001b[0m \u001b[1m16s\u001b[0m 126ms/step - accuracy: 1.0000 - loss: 1.2755e-05 - val_accuracy: 1.0000 - val_loss: 1.0630e-06 - learning_rate: 7.8125e-06\n",
            "Epoch 48/100\n",
            "\u001b[1m122/122\u001b[0m \u001b[32m━━━━━━━━━━━━━━━━━━━━\u001b[0m\u001b[37m\u001b[0m \u001b[1m20s\u001b[0m 122ms/step - accuracy: 1.0000 - loss: 6.8904e-05 - val_accuracy: 1.0000 - val_loss: 1.0309e-06 - learning_rate: 3.9063e-06\n",
            "Epoch 49/100\n",
            "\u001b[1m122/122\u001b[0m \u001b[32m━━━━━━━━━━━━━━━━━━━━\u001b[0m\u001b[37m\u001b[0m \u001b[1m21s\u001b[0m 123ms/step - accuracy: 1.0000 - loss: 2.9108e-05 - val_accuracy: 1.0000 - val_loss: 1.0368e-06 - learning_rate: 3.9063e-06\n",
            "Epoch 50/100\n",
            "\u001b[1m122/122\u001b[0m \u001b[32m━━━━━━━━━━━━━━━━━━━━\u001b[0m\u001b[37m\u001b[0m \u001b[1m21s\u001b[0m 124ms/step - accuracy: 1.0000 - loss: 1.7971e-05 - val_accuracy: 1.0000 - val_loss: 1.0315e-06 - learning_rate: 3.9063e-06\n",
            "Epoch 51/100\n",
            "\u001b[1m122/122\u001b[0m \u001b[32m━━━━━━━━━━━━━━━━━━━━\u001b[0m\u001b[37m\u001b[0m \u001b[1m15s\u001b[0m 123ms/step - accuracy: 1.0000 - loss: 9.3217e-06 - val_accuracy: 1.0000 - val_loss: 1.0280e-06 - learning_rate: 3.9063e-06\n",
            "Epoch 52/100\n",
            "\u001b[1m122/122\u001b[0m \u001b[32m━━━━━━━━━━━━━━━━━━━━\u001b[0m\u001b[37m\u001b[0m \u001b[1m15s\u001b[0m 126ms/step - accuracy: 1.0000 - loss: 2.9731e-05 - val_accuracy: 1.0000 - val_loss: 1.0242e-06 - learning_rate: 3.9063e-06\n",
            "Epoch 53/100\n",
            "\u001b[1m122/122\u001b[0m \u001b[32m━━━━━━━━━━━━━━━━━━━━\u001b[0m\u001b[37m\u001b[0m \u001b[1m22s\u001b[0m 140ms/step - accuracy: 1.0000 - loss: 7.9101e-06 - val_accuracy: 1.0000 - val_loss: 1.0226e-06 - learning_rate: 1.9531e-06\n",
            "Epoch 54/100\n",
            "\u001b[1m122/122\u001b[0m \u001b[32m━━━━━━━━━━━━━━━━━━━━\u001b[0m\u001b[37m\u001b[0m \u001b[1m15s\u001b[0m 124ms/step - accuracy: 1.0000 - loss: 1.3048e-05 - val_accuracy: 1.0000 - val_loss: 1.0213e-06 - learning_rate: 1.9531e-06\n",
            "Epoch 55/100\n",
            "\u001b[1m122/122\u001b[0m \u001b[32m━━━━━━━━━━━━━━━━━━━━\u001b[0m\u001b[37m\u001b[0m \u001b[1m20s\u001b[0m 124ms/step - accuracy: 1.0000 - loss: 1.8502e-05 - val_accuracy: 1.0000 - val_loss: 1.0186e-06 - learning_rate: 1.9531e-06\n",
            "Epoch 56/100\n",
            "\u001b[1m122/122\u001b[0m \u001b[32m━━━━━━━━━━━━━━━━━━━━\u001b[0m\u001b[37m\u001b[0m \u001b[1m20s\u001b[0m 123ms/step - accuracy: 1.0000 - loss: 1.0237e-05 - val_accuracy: 1.0000 - val_loss: 1.0166e-06 - learning_rate: 1.9531e-06\n",
            "Epoch 57/100\n",
            "\u001b[1m122/122\u001b[0m \u001b[32m━━━━━━━━━━━━━━━━━━━━\u001b[0m\u001b[37m\u001b[0m \u001b[1m20s\u001b[0m 120ms/step - accuracy: 1.0000 - loss: 1.0783e-05 - val_accuracy: 1.0000 - val_loss: 1.0146e-06 - learning_rate: 1.9531e-06\n",
            "Epoch 58/100\n",
            "\u001b[1m122/122\u001b[0m \u001b[32m━━━━━━━━━━━━━━━━━━━━\u001b[0m\u001b[37m\u001b[0m \u001b[1m15s\u001b[0m 121ms/step - accuracy: 1.0000 - loss: 1.0856e-05 - val_accuracy: 1.0000 - val_loss: 1.0136e-06 - learning_rate: 9.7656e-07\n",
            "Epoch 59/100\n",
            "\u001b[1m122/122\u001b[0m \u001b[32m━━━━━━━━━━━━━━━━━━━━\u001b[0m\u001b[37m\u001b[0m \u001b[1m22s\u001b[0m 136ms/step - accuracy: 1.0000 - loss: 1.0684e-04 - val_accuracy: 1.0000 - val_loss: 1.0113e-06 - learning_rate: 9.7656e-07\n",
            "Epoch 60/100\n",
            "\u001b[1m122/122\u001b[0m \u001b[32m━━━━━━━━━━━━━━━━━━━━\u001b[0m\u001b[37m\u001b[0m \u001b[1m15s\u001b[0m 123ms/step - accuracy: 1.0000 - loss: 8.3032e-06 - val_accuracy: 1.0000 - val_loss: 1.0093e-06 - learning_rate: 9.7656e-07\n",
            "Epoch 61/100\n",
            "\u001b[1m122/122\u001b[0m \u001b[32m━━━━━━━━━━━━━━━━━━━━\u001b[0m\u001b[37m\u001b[0m \u001b[1m20s\u001b[0m 117ms/step - accuracy: 1.0000 - loss: 1.9652e-05 - val_accuracy: 1.0000 - val_loss: 1.0074e-06 - learning_rate: 9.7656e-07\n",
            "Epoch 62/100\n",
            "\u001b[1m122/122\u001b[0m \u001b[32m━━━━━━━━━━━━━━━━━━━━\u001b[0m\u001b[37m\u001b[0m \u001b[1m21s\u001b[0m 121ms/step - accuracy: 1.0000 - loss: 1.3263e-05 - val_accuracy: 1.0000 - val_loss: 9.9295e-07 - learning_rate: 9.7656e-07\n",
            "Epoch 63/100\n",
            "\u001b[1m122/122\u001b[0m \u001b[32m━━━━━━━━━━━━━━━━━━━━\u001b[0m\u001b[37m\u001b[0m \u001b[1m15s\u001b[0m 123ms/step - accuracy: 1.0000 - loss: 9.8423e-06 - val_accuracy: 1.0000 - val_loss: 9.9223e-07 - learning_rate: 4.8828e-07\n",
            "Epoch 64/100\n",
            "\u001b[1m122/122\u001b[0m \u001b[32m━━━━━━━━━━━━━━━━━━━━\u001b[0m\u001b[37m\u001b[0m \u001b[1m20s\u001b[0m 119ms/step - accuracy: 1.0000 - loss: 1.7148e-05 - val_accuracy: 1.0000 - val_loss: 9.9223e-07 - learning_rate: 4.8828e-07\n",
            "Epoch 65/100\n",
            "\u001b[1m122/122\u001b[0m \u001b[32m━━━━━━━━━━━━━━━━━━━━\u001b[0m\u001b[37m\u001b[0m \u001b[1m23s\u001b[0m 138ms/step - accuracy: 1.0000 - loss: 2.9164e-05 - val_accuracy: 1.0000 - val_loss: 9.9094e-07 - learning_rate: 4.8828e-07\n",
            "Epoch 66/100\n",
            "\u001b[1m122/122\u001b[0m \u001b[32m━━━━━━━━━━━━━━━━━━━━\u001b[0m\u001b[37m\u001b[0m \u001b[1m15s\u001b[0m 120ms/step - accuracy: 1.0000 - loss: 3.6144e-05 - val_accuracy: 1.0000 - val_loss: 9.8793e-07 - learning_rate: 4.8828e-07\n",
            "Epoch 67/100\n",
            "\u001b[1m122/122\u001b[0m \u001b[32m━━━━━━━━━━━━━━━━━━━━\u001b[0m\u001b[37m\u001b[0m \u001b[1m20s\u001b[0m 118ms/step - accuracy: 1.0000 - loss: 9.9282e-06 - val_accuracy: 1.0000 - val_loss: 9.8750e-07 - learning_rate: 4.8828e-07\n",
            "Epoch 68/100\n",
            "\u001b[1m122/122\u001b[0m \u001b[32m━━━━━━━━━━━━━━━━━━━━\u001b[0m\u001b[37m\u001b[0m \u001b[1m21s\u001b[0m 121ms/step - accuracy: 1.0000 - loss: 1.7706e-05 - val_accuracy: 1.0000 - val_loss: 9.8707e-07 - learning_rate: 2.4414e-07\n",
            "Epoch 69/100\n",
            "\u001b[1m122/122\u001b[0m \u001b[32m━━━━━━━━━━━━━━━━━━━━\u001b[0m\u001b[37m\u001b[0m \u001b[1m20s\u001b[0m 119ms/step - accuracy: 1.0000 - loss: 2.1337e-05 - val_accuracy: 1.0000 - val_loss: 9.8664e-07 - learning_rate: 2.4414e-07\n",
            "Epoch 70/100\n",
            "\u001b[1m122/122\u001b[0m \u001b[32m━━━━━━━━━━━━━━━━━━━━\u001b[0m\u001b[37m\u001b[0m \u001b[1m21s\u001b[0m 121ms/step - accuracy: 1.0000 - loss: 1.7466e-05 - val_accuracy: 1.0000 - val_loss: 9.8578e-07 - learning_rate: 2.4414e-07\n",
            "Epoch 71/100\n",
            "\u001b[1m122/122\u001b[0m \u001b[32m━━━━━━━━━━━━━━━━━━━━\u001b[0m\u001b[37m\u001b[0m \u001b[1m17s\u001b[0m 138ms/step - accuracy: 1.0000 - loss: 1.7935e-05 - val_accuracy: 1.0000 - val_loss: 9.8535e-07 - learning_rate: 2.4414e-07\n",
            "Epoch 72/100\n",
            "\u001b[1m122/122\u001b[0m \u001b[32m━━━━━━━━━━━━━━━━━━━━\u001b[0m\u001b[37m\u001b[0m \u001b[1m19s\u001b[0m 122ms/step - accuracy: 1.0000 - loss: 1.0340e-05 - val_accuracy: 1.0000 - val_loss: 9.8507e-07 - learning_rate: 2.4414e-07\n",
            "Epoch 73/100\n",
            "\u001b[1m122/122\u001b[0m \u001b[32m━━━━━━━━━━━━━━━━━━━━\u001b[0m\u001b[37m\u001b[0m \u001b[1m21s\u001b[0m 129ms/step - accuracy: 1.0000 - loss: 1.7054e-05 - val_accuracy: 1.0000 - val_loss: 9.8449e-07 - learning_rate: 1.2207e-07\n",
            "Epoch 74/100\n",
            "\u001b[1m122/122\u001b[0m \u001b[32m━━━━━━━━━━━━━━━━━━━━\u001b[0m\u001b[37m\u001b[0m \u001b[1m19s\u001b[0m 121ms/step - accuracy: 1.0000 - loss: 1.3524e-05 - val_accuracy: 1.0000 - val_loss: 9.8421e-07 - learning_rate: 1.2207e-07\n",
            "Epoch 75/100\n",
            "\u001b[1m122/122\u001b[0m \u001b[32m━━━━━━━━━━━━━━━━━━━━\u001b[0m\u001b[37m\u001b[0m \u001b[1m21s\u001b[0m 122ms/step - accuracy: 1.0000 - loss: 1.3891e-05 - val_accuracy: 1.0000 - val_loss: 9.8406e-07 - learning_rate: 1.2207e-07\n",
            "Epoch 76/100\n",
            "\u001b[1m122/122\u001b[0m \u001b[32m━━━━━━━━━━━━━━━━━━━━\u001b[0m\u001b[37m\u001b[0m \u001b[1m21s\u001b[0m 126ms/step - accuracy: 1.0000 - loss: 2.4713e-05 - val_accuracy: 1.0000 - val_loss: 9.8421e-07 - learning_rate: 1.2207e-07\n",
            "Epoch 77/100\n",
            "\u001b[1m122/122\u001b[0m \u001b[32m━━━━━━━━━━━━━━━━━━━━\u001b[0m\u001b[37m\u001b[0m \u001b[1m21s\u001b[0m 128ms/step - accuracy: 1.0000 - loss: 3.1759e-05 - val_accuracy: 1.0000 - val_loss: 9.8177e-07 - learning_rate: 1.2207e-07\n",
            "Epoch 78/100\n",
            "\u001b[1m122/122\u001b[0m \u001b[32m━━━━━━━━━━━━━━━━━━━━\u001b[0m\u001b[37m\u001b[0m \u001b[1m20s\u001b[0m 127ms/step - accuracy: 1.0000 - loss: 1.0074e-05 - val_accuracy: 1.0000 - val_loss: 9.8177e-07 - learning_rate: 6.1035e-08\n",
            "Epoch 79/100\n",
            "\u001b[1m122/122\u001b[0m \u001b[32m━━━━━━━━━━━━━━━━━━━━\u001b[0m\u001b[37m\u001b[0m \u001b[1m20s\u001b[0m 126ms/step - accuracy: 1.0000 - loss: 2.0753e-05 - val_accuracy: 1.0000 - val_loss: 9.8106e-07 - learning_rate: 6.1035e-08\n",
            "Epoch 80/100\n",
            "\u001b[1m122/122\u001b[0m \u001b[32m━━━━━━━━━━━━━━━━━━━━\u001b[0m\u001b[37m\u001b[0m \u001b[1m20s\u001b[0m 124ms/step - accuracy: 1.0000 - loss: 1.3141e-05 - val_accuracy: 1.0000 - val_loss: 9.8077e-07 - learning_rate: 6.1035e-08\n",
            "Epoch 81/100\n",
            "\u001b[1m122/122\u001b[0m \u001b[32m━━━━━━━━━━━━━━━━━━━━\u001b[0m\u001b[37m\u001b[0m \u001b[1m20s\u001b[0m 120ms/step - accuracy: 1.0000 - loss: 1.4975e-05 - val_accuracy: 1.0000 - val_loss: 9.8077e-07 - learning_rate: 6.1035e-08\n",
            "Epoch 82/100\n",
            "\u001b[1m122/122\u001b[0m \u001b[32m━━━━━━━━━━━━━━━━━━━━\u001b[0m\u001b[37m\u001b[0m \u001b[1m23s\u001b[0m 142ms/step - accuracy: 1.0000 - loss: 2.8763e-05 - val_accuracy: 1.0000 - val_loss: 9.8091e-07 - learning_rate: 6.1035e-08\n",
            "Epoch 83/100\n",
            "\u001b[1m122/122\u001b[0m \u001b[32m━━━━━━━━━━━━━━━━━━━━\u001b[0m\u001b[37m\u001b[0m \u001b[1m16s\u001b[0m 128ms/step - accuracy: 1.0000 - loss: 5.1968e-05 - val_accuracy: 1.0000 - val_loss: 9.8091e-07 - learning_rate: 3.0518e-08\n",
            "Epoch 84/100\n",
            "\u001b[1m122/122\u001b[0m \u001b[32m━━━━━━━━━━━━━━━━━━━━\u001b[0m\u001b[37m\u001b[0m \u001b[1m20s\u001b[0m 128ms/step - accuracy: 1.0000 - loss: 1.7168e-05 - val_accuracy: 1.0000 - val_loss: 9.8077e-07 - learning_rate: 3.0518e-08\n",
            "Epoch 85/100\n",
            "\u001b[1m122/122\u001b[0m \u001b[32m━━━━━━━━━━━━━━━━━━━━\u001b[0m\u001b[37m\u001b[0m \u001b[1m16s\u001b[0m 133ms/step - accuracy: 1.0000 - loss: 1.6257e-05 - val_accuracy: 1.0000 - val_loss: 9.8063e-07 - learning_rate: 3.0518e-08\n",
            "Epoch 86/100\n",
            "\u001b[1m122/122\u001b[0m \u001b[32m━━━━━━━━━━━━━━━━━━━━\u001b[0m\u001b[37m\u001b[0m \u001b[1m19s\u001b[0m 125ms/step - accuracy: 1.0000 - loss: 9.4639e-06 - val_accuracy: 1.0000 - val_loss: 9.8063e-07 - learning_rate: 3.0518e-08\n",
            "Epoch 87/100\n",
            "\u001b[1m122/122\u001b[0m \u001b[32m━━━━━━━━━━━━━━━━━━━━\u001b[0m\u001b[37m\u001b[0m \u001b[1m16s\u001b[0m 129ms/step - accuracy: 1.0000 - loss: 9.9993e-06 - val_accuracy: 1.0000 - val_loss: 9.8048e-07 - learning_rate: 3.0518e-08\n",
            "Epoch 88/100\n",
            "\u001b[1m122/122\u001b[0m \u001b[32m━━━━━━━━━━━━━━━━━━━━\u001b[0m\u001b[37m\u001b[0m \u001b[1m20s\u001b[0m 128ms/step - accuracy: 1.0000 - loss: 1.2686e-05 - val_accuracy: 1.0000 - val_loss: 9.8048e-07 - learning_rate: 1.5259e-08\n",
            "Epoch 89/100\n",
            "\u001b[1m122/122\u001b[0m \u001b[32m━━━━━━━━━━━━━━━━━━━━\u001b[0m\u001b[37m\u001b[0m \u001b[1m20s\u001b[0m 125ms/step - accuracy: 1.0000 - loss: 1.0512e-05 - val_accuracy: 1.0000 - val_loss: 9.8048e-07 - learning_rate: 1.5259e-08\n",
            "Epoch 90/100\n",
            "\u001b[1m122/122\u001b[0m \u001b[32m━━━━━━━━━━━━━━━━━━━━\u001b[0m\u001b[37m\u001b[0m \u001b[1m20s\u001b[0m 122ms/step - accuracy: 1.0000 - loss: 1.9990e-05 - val_accuracy: 1.0000 - val_loss: 9.8048e-07 - learning_rate: 1.5259e-08\n",
            "Epoch 91/100\n",
            "\u001b[1m122/122\u001b[0m \u001b[32m━━━━━━━━━━━━━━━━━━━━\u001b[0m\u001b[37m\u001b[0m \u001b[1m15s\u001b[0m 123ms/step - accuracy: 1.0000 - loss: 2.1122e-05 - val_accuracy: 1.0000 - val_loss: 9.8048e-07 - learning_rate: 1.5259e-08\n",
            "Epoch 92/100\n",
            "\u001b[1m122/122\u001b[0m \u001b[32m━━━━━━━━━━━━━━━━━━━━\u001b[0m\u001b[37m\u001b[0m \u001b[1m15s\u001b[0m 125ms/step - accuracy: 1.0000 - loss: 1.4902e-05 - val_accuracy: 1.0000 - val_loss: 9.8034e-07 - learning_rate: 1.5259e-08\n",
            "Epoch 93/100\n",
            "\u001b[1m122/122\u001b[0m \u001b[32m━━━━━━━━━━━━━━━━━━━━\u001b[0m\u001b[37m\u001b[0m \u001b[1m21s\u001b[0m 127ms/step - accuracy: 1.0000 - loss: 1.4315e-05 - val_accuracy: 1.0000 - val_loss: 9.8034e-07 - learning_rate: 7.6294e-09\n",
            "Epoch 94/100\n",
            "\u001b[1m122/122\u001b[0m \u001b[32m━━━━━━━━━━━━━━━━━━━━\u001b[0m\u001b[37m\u001b[0m \u001b[1m17s\u001b[0m 139ms/step - accuracy: 1.0000 - loss: 1.2591e-05 - val_accuracy: 1.0000 - val_loss: 9.8034e-07 - learning_rate: 7.6294e-09\n",
            "Epoch 95/100\n",
            "\u001b[1m122/122\u001b[0m \u001b[32m━━━━━━━━━━━━━━━━━━━━\u001b[0m\u001b[37m\u001b[0m \u001b[1m18s\u001b[0m 146ms/step - accuracy: 1.0000 - loss: 1.2157e-05 - val_accuracy: 1.0000 - val_loss: 9.8034e-07 - learning_rate: 7.6294e-09\n",
            "Epoch 96/100\n",
            "\u001b[1m122/122\u001b[0m \u001b[32m━━━━━━━━━━━━━━━━━━━━\u001b[0m\u001b[37m\u001b[0m \u001b[1m15s\u001b[0m 127ms/step - accuracy: 1.0000 - loss: 1.4800e-05 - val_accuracy: 1.0000 - val_loss: 9.8034e-07 - learning_rate: 7.6294e-09\n",
            "Epoch 97/100\n",
            "\u001b[1m122/122\u001b[0m \u001b[32m━━━━━━━━━━━━━━━━━━━━\u001b[0m\u001b[37m\u001b[0m \u001b[1m15s\u001b[0m 125ms/step - accuracy: 1.0000 - loss: 1.8418e-05 - val_accuracy: 1.0000 - val_loss: 9.8034e-07 - learning_rate: 7.6294e-09\n",
            "Epoch 98/100\n",
            "\u001b[1m122/122\u001b[0m \u001b[32m━━━━━━━━━━━━━━━━━━━━\u001b[0m\u001b[37m\u001b[0m \u001b[1m15s\u001b[0m 125ms/step - accuracy: 1.0000 - loss: 2.3258e-05 - val_accuracy: 1.0000 - val_loss: 9.8034e-07 - learning_rate: 3.8147e-09\n",
            "Epoch 99/100\n",
            "\u001b[1m122/122\u001b[0m \u001b[32m━━━━━━━━━━━━━━━━━━━━\u001b[0m\u001b[37m\u001b[0m \u001b[1m21s\u001b[0m 127ms/step - accuracy: 1.0000 - loss: 1.0399e-05 - val_accuracy: 1.0000 - val_loss: 9.8034e-07 - learning_rate: 3.8147e-09\n",
            "Epoch 100/100\n",
            "\u001b[1m122/122\u001b[0m \u001b[32m━━━━━━━━━━━━━━━━━━━━\u001b[0m\u001b[37m\u001b[0m \u001b[1m20s\u001b[0m 126ms/step - accuracy: 1.0000 - loss: 1.9625e-05 - val_accuracy: 1.0000 - val_loss: 9.8034e-07 - learning_rate: 3.8147e-09\n"
          ]
        },
        {
          "output_type": "display_data",
          "data": {
            "text/plain": [
              "<Figure size 640x480 with 1 Axes>"
            ],
            "image/png": "[encoded data removed]"
          },
          "metadata": {}
        }
      ]
    },
    {
      "cell_type": "code",
      "source": [
        "import numpy as np\n",
        "import matplotlib.pyplot as plt\n",
        "import seaborn as sns\n",
        "from sklearn.metrics import classification_report, confusion_matrix\n",
        "import tensorflow as tf\n",
        "import os\n",
        "\n",
        "# Ensure the trained model is loaded\n",
        "MODEL_SAVE_PATH = '/content/drive/MyDrive/new_models'\n",
        "model_path = os.path.join(MODEL_SAVE_PATH, 'best_model.keras')\n",
        "\n",
        "# Check if the trained model exists and load it\n",
        "if os.path.exists(model_path):\n",
        "    model = tf.keras.models.load_model(model_path)\n",
        "    print(f\"Loaded trained model from {model_path}\")\n",
        "else:\n",
        "    # Fallback: Define and compile the model as in cell 5\n",
        "    print(\"Trained model not found, defining and compiling model from cell 5\")\n",
        "    model = tf.keras.Sequential([\n",
        "        tf.keras.layers.LSTM(256, input_shape=(30, 99), return_sequences=False),\n",
        "        tf.keras.layers.Dropout(0.4),\n",
        "        tf.keras.layers.Dense(128, activation='relu'),\n",
        "        tf.keras.layers.Dropout(0.4),\n",
        "        tf.keras.layers.Dense(64, activation='relu'),\n",
        "        tf.keras.layers.Dense(4, activation='softmax')\n",
        "    ])\n",
        "    model.compile(optimizer='adam', loss='sparse_categorical_crossentropy', metrics=['accuracy'])\n",
        "\n",
        "# Evaluate on test set\n",
        "test_loss, test_accuracy = model.evaluate(X_test, y_test)\n",
        "print(f\"Test Loss: {test_loss}, Test Accuracy: {test_accuracy}\")\n",
        "\n",
        "# Generate predictions for detailed metrics\n",
        "y_pred = np.argmax(model.predict(X_test), axis=1)\n",
        "print(\"\\nClassification Report:\")\n",
        "print(classification_report(y_test, y_pred, target_names=EXERCISE_CLASSES))\n",
        "\n",
        "# Plot confusion matrix\n",
        "plt.figure(figsize=(8, 6))\n",
        "sns.heatmap(confusion_matrix(y_test, y_pred), annot=True, fmt='d', cmap='Blues',\n",
        "            xticklabels=EXERCISE_CLASSES, yticklabels=EXERCISE_CLASSES)\n",
        "plt.xlabel('Predicted')\n",
        "plt.ylabel('Actual')\n",
        "plt.title('Confusion Matrix')\n",
        "plt.show()"
      ],
      "metadata": {
        "colab": {
          "base_uri": "https://localhost:8080/",
          "height": 873
        },
        "id": "F22R76jlDK6M",
        "outputId": "6bbc63cf-e765-4453-a270-d68c3d09c545"
      },
      "execution_count": 20,
      "outputs": [
        {
          "output_type": "stream",
          "name": "stdout",
          "text": [
            "Loaded trained model from /content/drive/MyDrive/new_models/best_model.keras\n",
            "\u001b[1m26/26\u001b[0m \u001b[32m━━━━━━━━━━━━━━━━━━━━\u001b[0m\u001b[37m\u001b[0m \u001b[1m1s\u001b[0m 35ms/step - accuracy: 0.9996 - loss: 0.0011    \n",
            "Test Loss: 0.003268727334216237, Test Accuracy: 0.9987980723381042\n",
            "\u001b[1m26/26\u001b[0m \u001b[32m━━━━━━━━━━━━━━━━━━━━\u001b[0m\u001b[37m\u001b[0m \u001b[1m1s\u001b[0m 31ms/step\n",
            "\n",
            "Classification Report:\n",
            "               precision    recall  f1-score   support\n",
            "\n",
            "       situps       1.00      1.00      1.00       182\n",
            "jumping_jacks       1.00      1.00      1.00       230\n",
            "    high_knee       1.00      1.00      1.00       240\n",
            " steam_engine       1.00      0.99      1.00       180\n",
            "\n",
            "     accuracy                           1.00       832\n",
            "    macro avg       1.00      1.00      1.00       832\n",
            " weighted avg       1.00      1.00      1.00       832\n",
            "\n"
          ]
        },
        {
          "output_type": "display_data",
          "data": {
            "text/plain": [
              "<Figure size 800x600 with 2 Axes>"
            ],
            "image/png": "[encoded data removed]"
          },
          "metadata": {}
        }
      ]
    },
    {
      "cell_type": "code",
      "source": [
        "import tensorflow as tf\n",
        "import os\n",
        "\n",
        "# Save the trained model in .keras format\n",
        "model.save(os.path.join(MODEL_SAVE_PATH, 'trained_model.keras'))\n",
        "print(f\"Saved trained model to {os.path.join(MODEL_SAVE_PATH, 'trained_model.keras')}\")\n",
        "\n",
        "# Define inference model without dropout, matching trained model architecture\n",
        "inference_model = tf.keras.Sequential([\n",
        "    tf.keras.layers.LSTM(256, input_shape=(30, 99), return_sequences=False, dtype='float32'),\n",
        "    tf.keras.layers.Dense(128, activation='relu', dtype='float32'),\n",
        "    tf.keras.layers.Dense(64, activation='relu', dtype='float32'),\n",
        "    tf.keras.layers.Dense(4, activation='softmax', dtype='float32')\n",
        "])\n",
        "\n",
        "# Load trained model\n",
        "trained_model = tf.keras.models.load_model(os.path.join(MODEL_SAVE_PATH, 'trained_model.keras'))\n",
        "print(\"Loaded trained model\")\n",
        "\n",
        "# Explicitly copy weights, skipping dropout layers\n",
        "trained_layers = [layer for layer in trained_model.layers if 'dropout' not in layer.name]\n",
        "inference_layers = inference_model.layers\n",
        "\n",
        "if len(trained_layers) != len(inference_layers):\n",
        "    raise ValueError(f\"Layer count mismatch: trained model has {len(trained_layers)} non-dropout layers, inference model has {len(inference_layers)} layers\")\n",
        "\n",
        "for trained_layer, inference_layer in zip(trained_layers, inference_layers):\n",
        "    print(f\"Copying weights from {trained_layer.name} to {inference_layer.name}\")\n",
        "    inference_layer.set_weights(trained_layer.get_weights())\n",
        "\n",
        "# Convert to TFLite\n",
        "converter = tf.lite.TFLiteConverter.from_keras_model(inference_model)\n",
        "converter.optimizations = [tf.lite.Optimize.DEFAULT]\n",
        "converter.target_spec.supported_ops = [\n",
        "    tf.lite.OpsSet.TFLITE_BUILTINS,\n",
        "    tf.lite.OpsSet.SELECT_TF_OPS\n",
        "]\n",
        "tflite_model = converter.convert()\n",
        "\n",
        "# Save the TFLite model\n",
        "tflite_path = os.path.join(MODEL_SAVE_PATH, 'exercise_model_optimized.tflite')\n",
        "with open(tflite_path, 'wb') as f:\n",
        "    f.write(tflite_model)\n",
        "print(f\"TFLite model saved to {tflite_path}\")\n",
        "\n",
        "# Display model summary for transparency\n",
        "inference_model.summary()"
      ],
      "metadata": {
        "colab": {
          "base_uri": "https://localhost:8080/",
          "height": 674
        },
        "id": "mt5iOs8qDO35",
        "outputId": "82a2f796-1738-413c-82ee-1e2a39a7a91d"
      },
      "execution_count": 22,
      "outputs": [
        {
          "output_type": "stream",
          "name": "stdout",
          "text": [
            "Saved trained model to /content/drive/MyDrive/new_models/trained_model.keras\n",
            "Loaded trained model\n",
            "Copying weights from lstm to lstm_3\n",
            "Copying weights from dense to dense_7\n",
            "Copying weights from dense_1 to dense_8\n",
            "Copying weights from dense_2 to dense_9\n",
            "Saved artifact at '/tmp/tmpe1w2qvta'. The following endpoints are available:\n",
            "\n",
            "* Endpoint 'serve'\n",
            "  args_0 (POSITIONAL_ONLY): TensorSpec(shape=(None, 30, 99), dtype=tf.float32, name='keras_tensor_57')\n",
            "Output Type:\n",
            "  TensorSpec(shape=(None, 4), dtype=tf.float32, name=None)\n",
            "Captures:\n",
            "  140518040816144: TensorSpec(shape=(), dtype=tf.resource, name=None)\n",
            "  140518040817872: TensorSpec(shape=(), dtype=tf.resource, name=None)\n",
            "  140518040818448: TensorSpec(shape=(), dtype=tf.resource, name=None)\n",
            "  140518040817488: TensorSpec(shape=(), dtype=tf.resource, name=None)\n",
            "  140518040818832: TensorSpec(shape=(), dtype=tf.resource, name=None)\n",
            "  140518040817680: TensorSpec(shape=(), dtype=tf.resource, name=None)\n",
            "  140518040819600: TensorSpec(shape=(), dtype=tf.resource, name=None)\n",
            "  140518040819024: TensorSpec(shape=(), dtype=tf.resource, name=None)\n",
            "  140518040820368: TensorSpec(shape=(), dtype=tf.resource, name=None)\n",
            "TFLite model saved to /content/drive/MyDrive/new_models/exercise_model_optimized.tflite\n"
          ]
        },
        {
          "output_type": "display_data",
          "data": {
            "text/plain": [
              "\u001b[1mModel: \"sequential_3\"\u001b[0m\n"
            ],
            "text/html": [
              "<pre style=\"white-space:pre;overflow-x:auto;line-height:normal;font-family:Menlo,'DejaVu Sans Mono',consolas,'Courier New',monospace\"><span style=\"font-weight: bold\">Model: \"sequential_3\"</span>\n",
              "</pre>\n"
            ]
          },
          "metadata": {}
        },
        {
          "output_type": "display_data",
          "data": {
            "text/plain": [
              "┏━━━━━━━━━━━━━━━━━━━━━━━━━━━━━━━━━┳━━━━━━━━━━━━━━━━━━━━━━━━┳━━━━━━━━━━━━━━━┓\n",
              "┃\u001b[1m \u001b[0m\u001b[1mLayer (type)                   \u001b[0m\u001b[1m \u001b[0m┃\u001b[1m \u001b[0m\u001b[1mOutput Shape          \u001b[0m\u001b[1m \u001b[0m┃\u001b[1m \u001b[0m\u001b[1m      Param #\u001b[0m\u001b[1m \u001b[0m┃\n",
              "┡━━━━━━━━━━━━━━━━━━━━━━━━━━━━━━━━━╇━━━━━━━━━━━━━━━━━━━━━━━━╇━━━━━━━━━━━━━━━┩\n",
              "│ lstm_3 (\u001b[38;5;33mLSTM\u001b[0m)                   │ (\u001b[38;5;45mNone\u001b[0m, \u001b[38;5;34m256\u001b[0m)            │       \u001b[38;5;34m364,544\u001b[0m │\n",
              "├─────────────────────────────────┼────────────────────────┼───────────────┤\n",
              "│ dense_7 (\u001b[38;5;33mDense\u001b[0m)                 │ (\u001b[38;5;45mNone\u001b[0m, \u001b[38;5;34m128\u001b[0m)            │        \u001b[38;5;34m32,896\u001b[0m │\n",
              "├─────────────────────────────────┼────────────────────────┼───────────────┤\n",
              "│ dense_8 (\u001b[38;5;33mDense\u001b[0m)                 │ (\u001b[38;5;45mNone\u001b[0m, \u001b[38;5;34m64\u001b[0m)             │         \u001b[38;5;34m8,256\u001b[0m │\n",
              "├─────────────────────────────────┼────────────────────────┼───────────────┤\n",
              "│ dense_9 (\u001b[38;5;33mDense\u001b[0m)                 │ (\u001b[38;5;45mNone\u001b[0m, \u001b[38;5;34m4\u001b[0m)              │           \u001b[38;5;34m260\u001b[0m │\n",
              "└─────────────────────────────────┴────────────────────────┴───────────────┘\n"
            ],
            "text/html": [
              "<pre style=\"white-space:pre;overflow-x:auto;line-height:normal;font-family:Menlo,'DejaVu Sans Mono',consolas,'Courier New',monospace\">┏━━━━━━━━━━━━━━━━━━━━━━━━━━━━━━━━━┳━━━━━━━━━━━━━━━━━━━━━━━━┳━━━━━━━━━━━━━━━┓\n",
              "┃<span style=\"font-weight: bold\"> Layer (type)                    </span>┃<span style=\"font-weight: bold\"> Output Shape           </span>┃<span style=\"font-weight: bold\">       Param # </span>┃\n",
              "┡━━━━━━━━━━━━━━━━━━━━━━━━━━━━━━━━━╇━━━━━━━━━━━━━━━━━━━━━━━━╇━━━━━━━━━━━━━━━┩\n",
              "│ lstm_3 (<span style=\"color: #0087ff; text-decoration-color: #0087ff\">LSTM</span>)                   │ (<span style=\"color: #00d7ff; text-decoration-color: #00d7ff\">None</span>, <span style=\"color: #00af00; text-decoration-color: #00af00\">256</span>)            │       <span style=\"color: #00af00; text-decoration-color: #00af00\">364,544</span> │\n",
              "├─────────────────────────────────┼────────────────────────┼───────────────┤\n",
              "│ dense_7 (<span style=\"color: #0087ff; text-decoration-color: #0087ff\">Dense</span>)                 │ (<span style=\"color: #00d7ff; text-decoration-color: #00d7ff\">None</span>, <span style=\"color: #00af00; text-decoration-color: #00af00\">128</span>)            │        <span style=\"color: #00af00; text-decoration-color: #00af00\">32,896</span> │\n",
              "├─────────────────────────────────┼────────────────────────┼───────────────┤\n",
              "│ dense_8 (<span style=\"color: #0087ff; text-decoration-color: #0087ff\">Dense</span>)                 │ (<span style=\"color: #00d7ff; text-decoration-color: #00d7ff\">None</span>, <span style=\"color: #00af00; text-decoration-color: #00af00\">64</span>)             │         <span style=\"color: #00af00; text-decoration-color: #00af00\">8,256</span> │\n",
              "├─────────────────────────────────┼────────────────────────┼───────────────┤\n",
              "│ dense_9 (<span style=\"color: #0087ff; text-decoration-color: #0087ff\">Dense</span>)                 │ (<span style=\"color: #00d7ff; text-decoration-color: #00d7ff\">None</span>, <span style=\"color: #00af00; text-decoration-color: #00af00\">4</span>)              │           <span style=\"color: #00af00; text-decoration-color: #00af00\">260</span> │\n",
              "└─────────────────────────────────┴────────────────────────┴───────────────┘\n",
              "</pre>\n"
            ]
          },
          "metadata": {}
        },
        {
          "output_type": "display_data",
          "data": {
            "text/plain": [
              "\u001b[1m Total params: \u001b[0m\u001b[38;5;34m405,956\u001b[0m (1.55 MB)\n"
            ],
            "text/html": [
              "<pre style=\"white-space:pre;overflow-x:auto;line-height:normal;font-family:Menlo,'DejaVu Sans Mono',consolas,'Courier New',monospace\"><span style=\"font-weight: bold\"> Total params: </span><span style=\"color: #00af00; text-decoration-color: #00af00\">405,956</span> (1.55 MB)\n",
              "</pre>\n"
            ]
          },
          "metadata": {}
        },
        {
          "output_type": "display_data",
          "data": {
            "text/plain": [
              "\u001b[1m Trainable params: \u001b[0m\u001b[38;5;34m405,956\u001b[0m (1.55 MB)\n"
            ],
            "text/html": [
              "<pre style=\"white-space:pre;overflow-x:auto;line-height:normal;font-family:Menlo,'DejaVu Sans Mono',consolas,'Courier New',monospace\"><span style=\"font-weight: bold\"> Trainable params: </span><span style=\"color: #00af00; text-decoration-color: #00af00\">405,956</span> (1.55 MB)\n",
              "</pre>\n"
            ]
          },
          "metadata": {}
        },
        {
          "output_type": "display_data",
          "data": {
            "text/plain": [
              "\u001b[1m Non-trainable params: \u001b[0m\u001b[38;5;34m0\u001b[0m (0.00 B)\n"
            ],
            "text/html": [
              "<pre style=\"white-space:pre;overflow-x:auto;line-height:normal;font-family:Menlo,'DejaVu Sans Mono',consolas,'Courier New',monospace\"><span style=\"font-weight: bold\"> Non-trainable params: </span><span style=\"color: #00af00; text-decoration-color: #00af00\">0</span> (0.00 B)\n",
              "</pre>\n"
            ]
          },
          "metadata": {}
        }
      ]
    },
    {
      "cell_type": "code",
      "source": [
        "import tensorflow as tf\n",
        "import numpy as np\n",
        "\n",
        "# Simulate real-time input by using a test sample\n",
        "def simulate_realtime_input(sample):\n",
        "    # Apply the same normalization as during training\n",
        "    sample_normalized = normalize_pose(sample)\n",
        "    return sample_normalized.astype(np.float32)\n",
        "\n",
        "# Load TFLite model and allocate tensors\n",
        "interpreter = tf.lite.Interpreter(model_path=os.path.join(MODEL_SAVE_PATH, 'exercise_model_optimized.tflite'))\n",
        "interpreter.allocate_tensors()\n",
        "\n",
        "# Get input and output tensors\n",
        "input_details = interpreter.get_input_details()\n",
        "output_details = interpreter.get_output_details()\n",
        "\n",
        "# Test with multiple samples from test set\n",
        "for sample_idx in range(10):  # Test first 5 samples\n",
        "    input_data = simulate_realtime_input(X_test[sample_idx])\n",
        "    interpreter.set_tensor(input_details[0]['index'], np.expand_dims(input_data, axis=0))\n",
        "    interpreter.invoke()\n",
        "    output_data = interpreter.get_tensor(output_details[0]['index'])\n",
        "    predicted_class = np.argmax(output_data[0])\n",
        "    print(f\"Sample {sample_idx}: Predicted: {EXERCISE_CLASSES[predicted_class]}, Actual: {EXERCISE_CLASSES[y_test[sample_idx]]}\")"
      ],
      "metadata": {
        "colab": {
          "base_uri": "https://localhost:8080/"
        },
        "id": "EOgseHRADRMz",
        "outputId": "a6576d9a-7a15-4082-bc90-8bc38486b4b1"
      },
      "execution_count": 24,
      "outputs": [
        {
          "output_type": "stream",
          "name": "stdout",
          "text": [
            "Sample 0: Predicted: high_knee, Actual: high_knee\n",
            "Sample 1: Predicted: steam_engine, Actual: steam_engine\n",
            "Sample 2: Predicted: jumping_jacks, Actual: jumping_jacks\n",
            "Sample 3: Predicted: jumping_jacks, Actual: jumping_jacks\n",
            "Sample 4: Predicted: steam_engine, Actual: steam_engine\n",
            "Sample 5: Predicted: high_knee, Actual: high_knee\n",
            "Sample 6: Predicted: jumping_jacks, Actual: jumping_jacks\n",
            "Sample 7: Predicted: jumping_jacks, Actual: jumping_jacks\n",
            "Sample 8: Predicted: jumping_jacks, Actual: jumping_jacks\n",
            "Sample 9: Predicted: steam_engine, Actual: steam_engine\n"
          ]
        }
      ]
    },
    {
      "cell_type": "code",
      "source": [
        "from sklearn.metrics import classification_report, confusion_matrix\n",
        "\n",
        "# Get predictions from the model\n",
        "y_pred = model.predict(X_test)\n",
        "\n",
        "# Convert predictions to class indices\n",
        "y_pred_classes = y_pred.argmax(axis=1)\n",
        "\n",
        "# Use y_test directly since it’s already integer labels\n",
        "print(classification_report(y_test, y_pred_classes, target_names=['situps', 'jumping_jacks', 'high_knees', 'steam_engines']))\n",
        "print(confusion_matrix(y_test, y_pred_classes))\n",
        "\n",
        "# Optional: Evaluate test loss and accuracy\n",
        "test_loss, test_accuracy = model.evaluate(X_test, y_test)\n",
        "print(f\"Test Loss: {test_loss}, Test Accuracy: {test_accuracy}\")"
      ],
      "metadata": {
        "colab": {
          "base_uri": "https://localhost:8080/"
        },
        "id": "wjBzhM-jdgEd",
        "outputId": "97e100d5-7022-4519-9ee7-016d3ff6c291"
      },
      "execution_count": 26,
      "outputs": [
        {
          "output_type": "stream",
          "name": "stdout",
          "text": [
            "\u001b[1m26/26\u001b[0m \u001b[32m━━━━━━━━━━━━━━━━━━━━\u001b[0m\u001b[37m\u001b[0m \u001b[1m2s\u001b[0m 84ms/step\n",
            "               precision    recall  f1-score   support\n",
            "\n",
            "       situps       1.00      1.00      1.00       182\n",
            "jumping_jacks       1.00      1.00      1.00       230\n",
            "   high_knees       1.00      1.00      1.00       240\n",
            "steam_engines       1.00      0.99      1.00       180\n",
            "\n",
            "     accuracy                           1.00       832\n",
            "    macro avg       1.00      1.00      1.00       832\n",
            " weighted avg       1.00      1.00      1.00       832\n",
            "\n",
            "[[182   0   0   0]\n",
            " [  0 230   0   0]\n",
            " [  0   0 240   0]\n",
            " [  0   0   1 179]]\n",
            "\u001b[1m26/26\u001b[0m \u001b[32m━━━━━━━━━━━━━━━━━━━━\u001b[0m\u001b[37m\u001b[0m \u001b[1m2s\u001b[0m 83ms/step - accuracy: 0.9996 - loss: 0.0011    \n",
            "Test Loss: 0.003268727334216237, Test Accuracy: 0.9987980723381042\n"
          ]
        }
      ]
    },
    {
      "cell_type": "code",
      "source": [
        "import os\n",
        "tflite_size = os.path.getsize('exercise_model_optimized.tflite') / (1024 * 1024)  # Size in MB\n",
        "print(f\"TFLite model size: {tflite_size:.2f} MB\")"
      ],
      "metadata": {
        "colab": {
          "base_uri": "https://localhost:8080/"
        },
        "id": "dpoFZ_rHdhGR",
        "outputId": "1ab3112c-4e98-454e-bf4c-5c5f5b00c31c"
      },
      "execution_count": 28,
      "outputs": [
        {
          "output_type": "stream",
          "name": "stdout",
          "text": [
            "TFLite model size: 0.06 MB\n"
          ]
        }
      ]
    }
  ]
}
